{
  "nbformat": 4,
  "nbformat_minor": 0,
  "metadata": {
    "colab": {
      "provenance": [],
      "authorship_tag": "ABX9TyNFWFL7/wOuL9+ngBaKYOL+",
      "include_colab_link": true
    },
    "kernelspec": {
      "name": "python3",
      "display_name": "Python 3"
    },
    "language_info": {
      "name": "python"
    }
  },
  "cells": [
    {
      "cell_type": "markdown",
      "metadata": {
        "id": "view-in-github",
        "colab_type": "text"
      },
      "source": [
        "<a href=\"https://colab.research.google.com/github/Airee66/MAT421/blob/main/ModuleC.ipynb\" target=\"_parent\"><img src=\"https://colab.research.google.com/assets/colab-badge.svg\" alt=\"Open In Colab\"/></a>"
      ]
    },
    {
      "cell_type": "markdown",
      "source": [
        "# Chapter 19. Root Finding\n",
        "### Ainsley Chapman\n",
        "### Date: 2/5/2023\n"
      ],
      "metadata": {
        "id": "dflx_wwh0rty"
      }
    },
    {
      "cell_type": "markdown",
      "source": [
        "## 19.1 - Root Finding Problem Statement\n",
        "\n",
        "The root of a function is the value or values of x such that $f(x) = 0$\n",
        "\n",
        "Below is an example using python to calculate the root of the function $f(x) = 5cos(x) + 2x$, near $-1$"
      ],
      "metadata": {
        "id": "BzQmIDQI9XdK"
      }
    },
    {
      "cell_type": "code",
      "source": [
        "import numpy as np\n",
        "from scipy import optimize\n",
        "#import matplotlib.pyplot as plt\n",
        "\n",
        "f = lambda x: 5 * np.cos(x) + 2*x\n",
        "r = optimize.fsolve(f, -1) # root calc\n",
        "print(\"r =\", r)\n",
        "\n",
        "result = f(r)\n",
        "print(\"result=\", result.round(10))"
      ],
      "metadata": {
        "colab": {
          "base_uri": "https://localhost:8080/"
        },
        "id": "aXL_la3f0rYu",
        "outputId": "4ab088ad-dd52-4ae9-a13d-81c74c2c4d56"
      },
      "execution_count": 1,
      "outputs": [
        {
          "output_type": "stream",
          "name": "stdout",
          "text": [
            "r = [-1.1105105]\n",
            "result= [0.]\n"
          ]
        }
      ]
    },
    {
      "cell_type": "markdown",
      "source": [
        "## 19.2 - Tolerance\n",
        "\n",
        "Tolerance is the maximum acceptable amount of error (deviation from the expected value) from the expected or computed value.  When a computer has calculated a solution with an error less than the tolerance, we can say the program has \"converged\" on a solution.\n",
        "\n",
        "For example, $f(x) = x^2$ has a root of $0$ but $f(x) = x^2 + tol/2$ has no real roots.  But if we wanted to approximate a root using a program, as long as it was within our designated tolerance, the solution would be acceptable. \n",
        "\n",
        "Shown below is the built in root finding program for both functions mentioned above.  The last one, having a tolerance = 0.1, our calculated root of 0 would be an acceptable solution as our result $( error = |f(x)| = 0.05)$ is less than the tolerance.  \n",
        "\n",
        "\n",
        "\n"
      ],
      "metadata": {
        "id": "eFz6gUy891X2"
      }
    },
    {
      "cell_type": "code",
      "execution_count": 2,
      "metadata": {
        "colab": {
          "base_uri": "https://localhost:8080/"
        },
        "id": "AuWsnWAd0a51",
        "outputId": "b10fba79-bb6c-40f1-9261-f72a6594ba90"
      },
      "outputs": [
        {
          "output_type": "stream",
          "name": "stdout",
          "text": [
            "r = [0.]\n",
            "result= [0.]\n"
          ]
        }
      ],
      "source": [
        "f = lambda x: x*x\n",
        "r = optimize.fsolve(f, 0) # root calc\n",
        "print(\"r =\", r)\n",
        "\n",
        "result = f(r)\n",
        "print(\"result=\", result)"
      ]
    },
    {
      "cell_type": "code",
      "source": [
        "tol = 0.1\n",
        "f = lambda x: (x*x) + tol/2\n",
        "r = optimize.fsolve(f, 0) # root calc\n",
        "print(\"r =\", r)\n",
        "\n",
        "result = f(r)\n",
        "print(\"result=\", result)"
      ],
      "metadata": {
        "colab": {
          "base_uri": "https://localhost:8080/"
        },
        "id": "UaV4M_NCXjdg",
        "outputId": "b48922c8-5a1e-47a5-dee8-80c46dfe9b58"
      },
      "execution_count": 3,
      "outputs": [
        {
          "output_type": "stream",
          "name": "stdout",
          "text": [
            "r = [0.]\n",
            "result= [0.05]\n"
          ]
        },
        {
          "output_type": "stream",
          "name": "stderr",
          "text": [
            "/usr/local/lib/python3.8/dist-packages/scipy/optimize/minpack.py:175: RuntimeWarning: The iteration is not making good progress, as measured by the \n",
            "  improvement from the last ten iterations.\n",
            "  warnings.warn(msg, RuntimeWarning)\n"
          ]
        }
      ]
    },
    {
      "cell_type": "markdown",
      "source": [
        "## 19.3 - Bisection Method\n",
        "\n",
        "The Bisection method is a useful approach to approximate roots by utilizing the Intermediate Value Theorem.  \n",
        "\n",
        "The Intermediate Value Theorem (IVT) states if $f(x)$ is continuous and $f(a) \\ne f(b)$, then there must be a $c$ such that $a < c < b$ and $f(c) = 0$.\n",
        "\n",
        "The Bisection method uses the IVT iteratively to find roots.  The midpoint between points $a$ and $b$ is $m = \\frac{b + a}{2}$.  If $f(m) = 0$, or close enough to zero for the given tolerance, then $m$ is a root.  The program below uses this method to find a root for $f(x) = 2cos(x) + x$ with the parameter $|f(\\frac{a + b}{2})| < {\\text{tol}}$."
      ],
      "metadata": {
        "id": "BzXdPdTv98AP"
      }
    },
    {
      "cell_type": "code",
      "source": [
        "import numpy as np\n",
        "\n",
        "def my_bisection(f, a, b, tol): \n",
        "    \n",
        "    # check if a and b bound a root\n",
        "    if np.sign(f(a)) == np.sign(f(b)):\n",
        "        raise Exception(\n",
        "         \"The scalars a and b do not bound a root\")\n",
        "        \n",
        "    # get midpoint\n",
        "    m = (a + b)/2\n",
        "    \n",
        "    if np.abs(f(m)) < tol:\n",
        "        return m\n",
        "    elif np.sign(f(a)) == np.sign(f(m)):\n",
        "        return my_bisection(f, m, b, tol)\n",
        "    elif np.sign(f(b)) == np.sign(f(m)):\n",
        "        return my_bisection(f, a, m, tol)\n",
        "\n",
        "f = lambda x: 2 * np.cos(x) + x\n",
        "\n",
        "r1 = my_bisection(f, -2, 2, 0.1)\n",
        "print(\"r1 =\", r1)\n",
        "r01 = my_bisection(f, -2, 2, 0.01)\n",
        "print(\"r01 =\", r01)\n",
        "r001 = my_bisection(f, -2, 2, 0.001)\n",
        "print(\"r001 =\", r001)\n",
        "\n",
        "print(\"f(r1) =\", f(r1))\n",
        "print(\"f(r01) =\", f(r01))\n",
        "print(\"f(r001) =\", f(r001))\n"
      ],
      "metadata": {
        "colab": {
          "base_uri": "https://localhost:8080/"
        },
        "id": "z6Dyf2zH-FQq",
        "outputId": "656a9285-2816-4695-959d-9c57412e3703"
      },
      "execution_count": 4,
      "outputs": [
        {
          "output_type": "stream",
          "name": "stdout",
          "text": [
            "r1 = -1.0\n",
            "r01 = -1.03125\n",
            "r001 = -1.02978515625\n",
            "f(r1) = 0.08060461173627953\n",
            "f(r01) = -0.0037563613792639394\n",
            "f(r001) = 0.0002208805835695049\n"
          ]
        }
      ]
    },
    {
      "cell_type": "markdown",
      "source": [
        "## 19.4 - Newton-Raphson Method\n",
        "\n",
        "The Newton-Raphson method uses linear approximation to improve guesses to the root iteratively (Newton steps) until the error is less than the tolerance. \n",
        "\n",
        "A single Newton step is given by the equation: \n",
        "$x_i = x_{i-1} - \\frac{g(x_{i-1})}{g^{\\prime}(x_{i-1})}$\n",
        "\n",
        "Below is an example of the Newton-Raphson method using python to find a root for the function $f(x) = x^2 - x - 3$"
      ],
      "metadata": {
        "id": "CXIBMFoK-Fzd"
      }
    },
    {
      "cell_type": "code",
      "source": [
        "def my_newton(f, df, x0, tol):\n",
        "    if abs(f(x0)) < tol:\n",
        "        return x0\n",
        "    else:\n",
        "        return my_newton(f, df, x0 - f(x0)/df(x0), tol)\n",
        "\n",
        "f = lambda x: x**2 - x - 3\n",
        "f_prime = lambda x: 2*x - 1   #first guess\n",
        "\n",
        "estimate = my_newton(f, f_prime, 2, 1e-6)\n",
        "print(\"estimate =\", estimate)"
      ],
      "metadata": {
        "colab": {
          "base_uri": "https://localhost:8080/"
        },
        "id": "qWgJWJwQ-NXi",
        "outputId": "bdc6b470-cf58-4efe-beea-cebc6fb9e1df"
      },
      "execution_count": 5,
      "outputs": [
        {
          "output_type": "stream",
          "name": "stdout",
          "text": [
            "estimate = 2.302775655716832\n"
          ]
        }
      ]
    },
    {
      "cell_type": "markdown",
      "source": [
        "## 19.5 - Root Finding in Python\n",
        "\n",
        "We can easily find roots to functions in python using fsolve from the scipy.optimize library.\n",
        "\n",
        "Below we find the three roots of the function $f(x) = 8cos(x) + 2x$ using fsolve."
      ],
      "metadata": {
        "id": "KAoqgMAo-NtM"
      }
    },
    {
      "cell_type": "code",
      "source": [
        "from scipy.optimize import fsolve\n",
        "\n",
        "f = lambda x: 8*np.cos(x) + 2*x\n",
        "\n",
        "fsolve(f, [-1, 2, 4])  #three guesses"
      ],
      "metadata": {
        "colab": {
          "base_uri": "https://localhost:8080/"
        },
        "id": "kAtwbHFF-SAF",
        "outputId": "2723b9e2-63cb-4932-f891-b851145b4012"
      },
      "execution_count": 6,
      "outputs": [
        {
          "output_type": "execute_result",
          "data": {
            "text/plain": [
              "array([-1.25235323,  2.13333225,  3.59530487])"
            ]
          },
          "metadata": {},
          "execution_count": 6
        }
      ]
    }
  ]
}