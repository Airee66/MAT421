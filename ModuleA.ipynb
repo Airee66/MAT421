{
  "nbformat": 4,
  "nbformat_minor": 0,
  "metadata": {
    "colab": {
      "provenance": [],
      "toc_visible": true,
      "authorship_tag": "ABX9TyNS55GoFLF2BnuxpKpkdJGw",
      "include_colab_link": true
    },
    "kernelspec": {
      "name": "python3",
      "display_name": "Python 3"
    },
    "language_info": {
      "name": "python"
    }
  },
  "cells": [
    {
      "cell_type": "markdown",
      "metadata": {
        "id": "view-in-github",
        "colab_type": "text"
      },
      "source": [
        "<a href=\"https://colab.research.google.com/github/Airee66/MAT421/blob/main/ModuleA.ipynb\" target=\"_parent\"><img src=\"https://colab.research.google.com/assets/colab-badge.svg\" alt=\"Open In Colab\"/></a>"
      ]
    },
    {
      "cell_type": "markdown",
      "source": [
        "# Chapter 9. Representation of Numbers\n",
        "#### Ainsley Chapman\n",
        "#### Date: 1/15/2023"
      ],
      "metadata": {
        "id": "4TBV3iGMv2KN"
      }
    },
    {
      "cell_type": "markdown",
      "source": [
        "## Section 9.1 - Base-N and Binary\n",
        "\n",
        "An important way of representing numbers in computing is base2 as computers work in binary (0,1). We usually work in base10 so to communicate with computers, we have to do a conversion.  This is relevant because computers store information in bits and the number of bits a computer has, represents the highest binary number it could store and process."
      ],
      "metadata": {
        "id": "4v9Anhk1wV0r"
      }
    },
    {
      "cell_type": "code",
      "execution_count": 25,
      "metadata": {
        "colab": {
          "base_uri": "https://localhost:8080/"
        },
        "id": "pl0KTJh7vRwg",
        "outputId": "af032679-cdd0-4216-c1f5-5487612966ef"
      },
      "outputs": [
        {
          "output_type": "stream",
          "name": "stdout",
          "text": [
            "This is how python represents the number 45(base10) in binary: 0b101101\n",
            "45(base10) is 101101 in binary\n"
          ]
        }
      ],
      "source": [
        "# 45(base10) to binary\n",
        "\n",
        "x = bin(45)\n",
        "print (\"This is how python represents the number 45(base10) in binary: \" + x)\n",
        "#print(f\"{x:b}\")\n",
        "\n",
        "xb = x[2:]\n",
        "string = f\"45(base10) is {xb} in binary\"\n",
        "print (string)"
      ]
    },
    {
      "cell_type": "markdown",
      "source": [
        "Now lets multiply in binary"
      ],
      "metadata": {
        "id": "zDAJIaNCxkA8"
      }
    },
    {
      "cell_type": "code",
      "source": [
        "a = 0b101\n",
        "b = 0b111\n",
        "c = a*b\n",
        "\n",
        "print(f\"{a}({bin(a)}) * {b}({bin(b)}) = {c}({bin(c)})\")\n",
        "\n",
        "#print(a*b)"
      ],
      "metadata": {
        "colab": {
          "base_uri": "https://localhost:8080/"
        },
        "id": "EbKh0_nUqm5S",
        "outputId": "22c11f45-4eb5-478e-ba92-f3b92ac058c8"
      },
      "execution_count": 53,
      "outputs": [
        {
          "output_type": "stream",
          "name": "stdout",
          "text": [
            "5(0b101) * 7(0b111) = 35(0b100011)\n"
          ]
        }
      ]
    },
    {
      "cell_type": "markdown",
      "source": [
        "## Section 9.2 - Floating Point Numbers"
      ],
      "metadata": {
        "id": "vupGqMKFwuIc"
      }
    },
    {
      "cell_type": "markdown",
      "source": [
        "Floating point numbers assign bits to three different parts: s, e, and f.  The sign indicator s represents whether a number is positive or negative, the exponent e represents the power of 2, and the fraction f represents the coefficient of the exponent. Python uses double precision, IEEE754, so s is allocated 1 bit, e has 11, and f has 54.  Floats essentially float the decimal point, allowing for larger numbers to be represented."
      ],
      "metadata": {
        "id": "BbBLHltJoYXJ"
      }
    },
    {
      "cell_type": "markdown",
      "source": [
        "Largest float value possible:"
      ],
      "metadata": {
        "id": "MnT7Wte1mEll"
      }
    },
    {
      "cell_type": "code",
      "source": [
        "import numpy as np\n",
        "import sys\n",
        "\n",
        "sys.float_info.max"
      ],
      "metadata": {
        "colab": {
          "base_uri": "https://localhost:8080/"
        },
        "id": "3W8G1JSLxARs",
        "outputId": "cd2504ee-4268-4e9e-8388-7099942451cc"
      },
      "execution_count": 70,
      "outputs": [
        {
          "output_type": "execute_result",
          "data": {
            "text/plain": [
              "1.7976931348623157e+308"
            ]
          },
          "metadata": {},
          "execution_count": 70
        }
      ]
    },
    {
      "cell_type": "markdown",
      "source": [
        "Smallest float value possible:"
      ],
      "metadata": {
        "id": "R7Ykyn4clH6f"
      }
    },
    {
      "cell_type": "code",
      "source": [
        "sys.float_info.max"
      ],
      "metadata": {
        "colab": {
          "base_uri": "https://localhost:8080/"
        },
        "id": "nWmmbT9JzJb-",
        "outputId": "3abf7359-f35d-4dee-c6cb-6bb074f3d628"
      },
      "execution_count": 58,
      "outputs": [
        {
          "output_type": "execute_result",
          "data": {
            "text/plain": [
              "1.7976931348623157e+308"
            ]
          },
          "metadata": {},
          "execution_count": 58
        }
      ]
    },
    {
      "cell_type": "markdown",
      "source": [
        "## Section 9.3 - Round-off Errors"
      ],
      "metadata": {
        "id": "hKIeRKj5xAot"
      }
    },
    {
      "cell_type": "markdown",
      "source": [
        "Round off errors can occur with floats because they are not extremely precise due to their nature.  For example, .3 + .3 +.3 should equal 0.9, but when we check this in python, this statement is false."
      ],
      "metadata": {
        "id": "7L8NYpt91hQS"
      }
    },
    {
      "cell_type": "code",
      "source": [
        "0.3 + 0.3 + 0.3 == 0.9"
      ],
      "metadata": {
        "colab": {
          "base_uri": "https://localhost:8080/"
        },
        "id": "mJM4mR6XxQdR",
        "outputId": "5e5c861b-233e-45c0-e7e9-211c5590cf58"
      },
      "execution_count": 85,
      "outputs": [
        {
          "output_type": "execute_result",
          "data": {
            "text/plain": [
              "False"
            ]
          },
          "metadata": {},
          "execution_count": 85
        }
      ]
    },
    {
      "cell_type": "markdown",
      "source": [
        "We can check and see that adding our 0.3s together give us a float not quite equal to 0.9."
      ],
      "metadata": {
        "id": "Dp2EOrIY4SwN"
      }
    },
    {
      "cell_type": "code",
      "source": [
        "x = 0.3 + 0.3 + 0.3\n",
        "print(x)\n",
        "isinstance(x, float)"
      ],
      "metadata": {
        "colab": {
          "base_uri": "https://localhost:8080/"
        },
        "id": "7tA_4lHW4sT3",
        "outputId": "5fbd8c7c-e032-4c24-c2f0-5832ac1450df"
      },
      "execution_count": 98,
      "outputs": [
        {
          "output_type": "stream",
          "name": "stdout",
          "text": [
            "0.8999999999999999\n"
          ]
        },
        {
          "output_type": "execute_result",
          "data": {
            "text/plain": [
              "True"
            ]
          },
          "metadata": {},
          "execution_count": 98
        }
      ]
    },
    {
      "cell_type": "markdown",
      "source": [
        "This is something to keep in mind when storing data as a float because repeated calculations compounds these errors."
      ],
      "metadata": {
        "id": "YPufSNLv6LvO"
      }
    },
    {
      "cell_type": "code",
      "source": [
        "def ROE (x):\n",
        "  ans = 1\n",
        "  for i in range(x):\n",
        "        ans += 1/6\n",
        "\n",
        "  for i in range(x):\n",
        "        ans -= 1/6\n",
        "\n",
        "  return ans\n",
        "\n",
        "print(ROE(100))\n",
        "print(ROE(1000))\n",
        "print(ROE(10000))"
      ],
      "metadata": {
        "colab": {
          "base_uri": "https://localhost:8080/"
        },
        "id": "EfO7HCAf3m7v",
        "outputId": "88472e92-aa2d-4538-81cf-c3021fc9362f"
      },
      "execution_count": 110,
      "outputs": [
        {
          "output_type": "stream",
          "name": "stdout",
          "text": [
            "1.0\n",
            "1.000000000000003\n",
            "1.0000000000000582\n"
          ]
        }
      ]
    }
  ]
}