{
  "nbformat": 4,
  "nbformat_minor": 0,
  "metadata": {
    "colab": {
      "provenance": [],
      "authorship_tag": "ABX9TyPqPVRSGKZT5PC+P9251q5y",
      "include_colab_link": true
    },
    "kernelspec": {
      "name": "python3",
      "display_name": "Python 3"
    },
    "language_info": {
      "name": "python"
    }
  },
  "cells": [
    {
      "cell_type": "markdown",
      "metadata": {
        "id": "view-in-github",
        "colab_type": "text"
      },
      "source": [
        "<a href=\"https://colab.research.google.com/github/Airee66/MAT421/blob/main/ModuleG.ipynb\" target=\"_parent\"><img src=\"https://colab.research.google.com/assets/colab-badge.svg\" alt=\"Open In Colab\"/></a>"
      ]
    },
    {
      "cell_type": "markdown",
      "source": [
        "# Chapter 21: Numerical Integration\n",
        "### Ainsley Chapman\n",
        "### Date: 3/19/2023"
      ],
      "metadata": {
        "id": "pGcjVfy5S06f"
      }
    },
    {
      "cell_type": "markdown",
      "source": [
        "## Section 21.1 - Numerical Integration Problem Statement\n",
        "\n",
        "Given a function 𝑓(𝑥), we want to approximate the integral of 𝑓(𝑥) over the total interval, [𝑎,𝑏].  To do this, we assume the interval has been discretized into a numerical grid $x$, which contains $n+1$ points, with spacing $h = \\frac {b-a}n. $ Each point in $x$ is denoted by $𝑥_𝑖$, where $𝑥_0=𝑎$ and $𝑥_𝑛=𝑏$. For approximating, we assume that we have a function, 𝑓(𝑥), that can be computed for any of the grid points.  \n",
        "\n",
        "For notation, the interval $[𝑥_i,𝑥_{𝑖+1}]$ is referred to as a subinterval.\n",
        "\n",
        "$ \\\\ \\int_a^b f(x) dx$"
      ],
      "metadata": {
        "id": "F8A7fVPtTDch"
      }
    },
    {
      "cell_type": "markdown",
      "source": [
        "## Section 21.2 - Riemanns Integral\n",
        "\n",
        "Reimanns Integral method fits rectangles in each subinterval to approximate the integral.  \n",
        "\n",
        "\n",
        "Left Endpoint:\n",
        "$$ \\int_a^b f(x) dx \\approx \\sum_{i = 0}^{n-1} hf(x_i)$$\n",
        "\n",
        "Right Endpoint:\n",
        "$$ \\int_a^b f(x) dx \\approx \\sum_{i = 1}^{n} hf(x_i) $$\n",
        "\n",
        "Midpoint Rule:\n",
        "$$ \\int_a^b f(x)dx \\approx \\sum_{i = 0}^{n-1} hf(y_i) $$"
      ],
      "metadata": {
        "id": "xnF7L8YITKxR"
      }
    },
    {
      "cell_type": "code",
      "source": [
        "import numpy as np\n",
        "\n",
        "a = 0\n",
        "b = np.pi/2\n",
        "n = 12\n",
        "h = (b - a) / (n - 1)\n",
        "x = np.linspace(a, b, n)\n",
        "f = np.cos(x)\n",
        "\n",
        "I_riemannL = h * sum(f[:n-1])\n",
        "err_riemannL = 2 - I_riemannL\n",
        "\n",
        "I_riemannR = h * sum(f[1::])\n",
        "err_riemannR = 2 - I_riemannR\n",
        "\n",
        "I_mid = h * sum(np.sin((x[:n-1] \\\n",
        "        + x[1:])/2))\n",
        "err_mid = 2 - I_mid\n",
        "\n",
        "print(\"left\")\n",
        "print(I_riemannL)\n",
        "print(err_riemannL)\n",
        "\n",
        "print(\"\\nright\")\n",
        "print(I_riemannR)\n",
        "print(err_riemannR)\n",
        "\n",
        "print(\"\\nmidpoint\")\n",
        "print(I_mid)\n",
        "print(err_mid)\n",
        "\n",
        "#should be close to 1"
      ],
      "metadata": {
        "id": "x7Bk_YpjTLKO",
        "colab": {
          "base_uri": "https://localhost:8080/"
        },
        "outputId": "f3ad4862-d58f-4e27-edc9-13e1248b9fd7"
      },
      "execution_count": 4,
      "outputs": [
        {
          "output_type": "stream",
          "name": "stdout",
          "text": [
            "left\n",
            "1.069699943170767\n",
            "0.930300056829233\n",
            "\n",
            "right\n",
            "0.9269002770985034\n",
            "1.0730997229014965\n",
            "\n",
            "midpoint\n",
            "1.0008501616388004\n",
            "0.9991498383611996\n"
          ]
        }
      ]
    },
    {
      "cell_type": "markdown",
      "source": [
        "## Section 21.3 - Trapezoid Rule\n",
        "\n",
        "The Trapezoid Rule fits trapezoids in each subinterval to approximate the integral. \n",
        "\n",
        "$\\int_a^b f(x) dx \\approx \\sum_{i=0}^{n-1} h\\frac{f(x_i) + f(x_{i+1})}{2}$"
      ],
      "metadata": {
        "id": "VkNLX5QJTLjE"
      }
    },
    {
      "cell_type": "code",
      "source": [
        "import numpy as np\n",
        "\n",
        "a = 0\n",
        "b = np.pi/2\n",
        "n = 12\n",
        "h = (b - a) / (n - 1)\n",
        "x = np.linspace(a, b, n)\n",
        "f = np.cos(x)\n",
        "\n",
        "I_trap = (h/2)*(f[0] + \\\n",
        "          2 * sum(f[1:n-1]) + f[n-1])\n",
        "err_trap = 2 - I_trap\n",
        "\n",
        "print(I_trap)\n",
        "print(err_trap)"
      ],
      "metadata": {
        "id": "iXVRIbMUTMDP",
        "colab": {
          "base_uri": "https://localhost:8080/"
        },
        "outputId": "98549372-e525-484c-db63-626b7dc190ce"
      },
      "execution_count": 5,
      "outputs": [
        {
          "output_type": "stream",
          "name": "stdout",
          "text": [
            "0.9983001101346352\n",
            "1.0016998898653648\n"
          ]
        }
      ]
    }
  ]
}